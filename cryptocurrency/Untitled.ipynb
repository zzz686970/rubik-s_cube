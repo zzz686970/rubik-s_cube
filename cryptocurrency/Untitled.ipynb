{
 "cells": [
  {
   "cell_type": "code",
   "execution_count": 18,
   "metadata": {},
   "outputs": [],
   "source": [
    "import requests\n",
    "import pandas as pd\n",
    "import matplotlib.pyplot as plt\n",
    "import os\n",
    "from pandas.io.json import json_normalize\n",
    "import json\n",
    "import datetime as dt"
   ]
  },
  {
   "cell_type": "code",
   "execution_count": 19,
   "metadata": {},
   "outputs": [],
   "source": [
    "df = pd.read_csv('raw_data.csv')"
   ]
  },
  {
   "cell_type": "code",
   "execution_count": 20,
   "metadata": {},
   "outputs": [
    {
     "data": {
      "text/html": [
       "<div>\n",
       "<style scoped>\n",
       "    .dataframe tbody tr th:only-of-type {\n",
       "        vertical-align: middle;\n",
       "    }\n",
       "\n",
       "    .dataframe tbody tr th {\n",
       "        vertical-align: top;\n",
       "    }\n",
       "\n",
       "    .dataframe thead th {\n",
       "        text-align: right;\n",
       "    }\n",
       "</style>\n",
       "<table border=\"1\" class=\"dataframe\">\n",
       "  <thead>\n",
       "    <tr style=\"text-align: right;\">\n",
       "      <th></th>\n",
       "      <th>timestamp</th>\n",
       "      <th>open (USD)</th>\n",
       "      <th>high (USD)</th>\n",
       "      <th>low (USD)</th>\n",
       "      <th>close (USD)</th>\n",
       "      <th>open (USD).1</th>\n",
       "      <th>high (USD).1</th>\n",
       "      <th>low (USD).1</th>\n",
       "      <th>close (USD).1</th>\n",
       "      <th>volume</th>\n",
       "      <th>market cap (USD)</th>\n",
       "    </tr>\n",
       "  </thead>\n",
       "  <tbody>\n",
       "    <tr>\n",
       "      <th>0</th>\n",
       "      <td>2020-09-20</td>\n",
       "      <td>11080.64</td>\n",
       "      <td>11080.64</td>\n",
       "      <td>11046.54</td>\n",
       "      <td>11047.40</td>\n",
       "      <td>11080.64</td>\n",
       "      <td>11080.64</td>\n",
       "      <td>11046.54</td>\n",
       "      <td>11047.40</td>\n",
       "      <td>811.458671</td>\n",
       "      <td>811.458671</td>\n",
       "    </tr>\n",
       "    <tr>\n",
       "      <th>1</th>\n",
       "      <td>2020-09-19</td>\n",
       "      <td>10933.40</td>\n",
       "      <td>11179.79</td>\n",
       "      <td>10887.37</td>\n",
       "      <td>11080.65</td>\n",
       "      <td>10933.40</td>\n",
       "      <td>11179.79</td>\n",
       "      <td>10887.37</td>\n",
       "      <td>11080.65</td>\n",
       "      <td>38440.036858</td>\n",
       "      <td>38440.036858</td>\n",
       "    </tr>\n",
       "    <tr>\n",
       "      <th>2</th>\n",
       "      <td>2020-09-18</td>\n",
       "      <td>10940.00</td>\n",
       "      <td>11038.03</td>\n",
       "      <td>10812.84</td>\n",
       "      <td>10933.39</td>\n",
       "      <td>10940.00</td>\n",
       "      <td>11038.03</td>\n",
       "      <td>10812.84</td>\n",
       "      <td>10933.39</td>\n",
       "      <td>47266.728275</td>\n",
       "      <td>47266.728275</td>\n",
       "    </tr>\n",
       "    <tr>\n",
       "      <th>3</th>\n",
       "      <td>2020-09-17</td>\n",
       "      <td>10954.01</td>\n",
       "      <td>11045.46</td>\n",
       "      <td>10745.83</td>\n",
       "      <td>10939.99</td>\n",
       "      <td>10954.01</td>\n",
       "      <td>11045.46</td>\n",
       "      <td>10745.83</td>\n",
       "      <td>10939.99</td>\n",
       "      <td>55601.614529</td>\n",
       "      <td>55601.614529</td>\n",
       "    </tr>\n",
       "    <tr>\n",
       "      <th>4</th>\n",
       "      <td>2020-09-16</td>\n",
       "      <td>10785.23</td>\n",
       "      <td>11093.00</td>\n",
       "      <td>10661.22</td>\n",
       "      <td>10954.01</td>\n",
       "      <td>10785.23</td>\n",
       "      <td>11093.00</td>\n",
       "      <td>10661.22</td>\n",
       "      <td>10954.01</td>\n",
       "      <td>64991.512440</td>\n",
       "      <td>64991.512440</td>\n",
       "    </tr>\n",
       "    <tr>\n",
       "      <th>...</th>\n",
       "      <td>...</td>\n",
       "      <td>...</td>\n",
       "      <td>...</td>\n",
       "      <td>...</td>\n",
       "      <td>...</td>\n",
       "      <td>...</td>\n",
       "      <td>...</td>\n",
       "      <td>...</td>\n",
       "      <td>...</td>\n",
       "      <td>...</td>\n",
       "      <td>...</td>\n",
       "    </tr>\n",
       "    <tr>\n",
       "      <th>995</th>\n",
       "      <td>2017-12-30</td>\n",
       "      <td>14378.99</td>\n",
       "      <td>14398.85</td>\n",
       "      <td>11750.00</td>\n",
       "      <td>12440.01</td>\n",
       "      <td>14378.99</td>\n",
       "      <td>14398.85</td>\n",
       "      <td>11750.00</td>\n",
       "      <td>12440.01</td>\n",
       "      <td>19221.158039</td>\n",
       "      <td>19221.158039</td>\n",
       "    </tr>\n",
       "    <tr>\n",
       "      <th>996</th>\n",
       "      <td>2017-12-29</td>\n",
       "      <td>14199.14</td>\n",
       "      <td>14981.00</td>\n",
       "      <td>13850.00</td>\n",
       "      <td>14378.90</td>\n",
       "      <td>14199.14</td>\n",
       "      <td>14981.00</td>\n",
       "      <td>13850.00</td>\n",
       "      <td>14378.90</td>\n",
       "      <td>18072.008116</td>\n",
       "      <td>18072.008116</td>\n",
       "    </tr>\n",
       "    <tr>\n",
       "      <th>997</th>\n",
       "      <td>2017-12-28</td>\n",
       "      <td>15459.97</td>\n",
       "      <td>15539.99</td>\n",
       "      <td>13150.00</td>\n",
       "      <td>14182.11</td>\n",
       "      <td>15459.97</td>\n",
       "      <td>15539.99</td>\n",
       "      <td>13150.00</td>\n",
       "      <td>14182.11</td>\n",
       "      <td>21717.858014</td>\n",
       "      <td>21717.858014</td>\n",
       "    </tr>\n",
       "    <tr>\n",
       "      <th>998</th>\n",
       "      <td>2017-12-27</td>\n",
       "      <td>15709.98</td>\n",
       "      <td>16498.05</td>\n",
       "      <td>14200.15</td>\n",
       "      <td>15459.99</td>\n",
       "      <td>15709.98</td>\n",
       "      <td>16498.05</td>\n",
       "      <td>14200.15</td>\n",
       "      <td>15459.99</td>\n",
       "      <td>14959.864723</td>\n",
       "      <td>14959.864723</td>\n",
       "    </tr>\n",
       "    <tr>\n",
       "      <th>999</th>\n",
       "      <td>2017-12-26</td>\n",
       "      <td>13699.34</td>\n",
       "      <td>16050.00</td>\n",
       "      <td>13533.00</td>\n",
       "      <td>15689.01</td>\n",
       "      <td>13699.34</td>\n",
       "      <td>16050.00</td>\n",
       "      <td>13533.00</td>\n",
       "      <td>15689.01</td>\n",
       "      <td>15034.668104</td>\n",
       "      <td>15034.668104</td>\n",
       "    </tr>\n",
       "  </tbody>\n",
       "</table>\n",
       "<p>1000 rows × 11 columns</p>\n",
       "</div>"
      ],
      "text/plain": [
       "      timestamp  open (USD)  high (USD)  low (USD)  close (USD)  open (USD).1  \\\n",
       "0    2020-09-20    11080.64    11080.64   11046.54     11047.40      11080.64   \n",
       "1    2020-09-19    10933.40    11179.79   10887.37     11080.65      10933.40   \n",
       "2    2020-09-18    10940.00    11038.03   10812.84     10933.39      10940.00   \n",
       "3    2020-09-17    10954.01    11045.46   10745.83     10939.99      10954.01   \n",
       "4    2020-09-16    10785.23    11093.00   10661.22     10954.01      10785.23   \n",
       "..          ...         ...         ...        ...          ...           ...   \n",
       "995  2017-12-30    14378.99    14398.85   11750.00     12440.01      14378.99   \n",
       "996  2017-12-29    14199.14    14981.00   13850.00     14378.90      14199.14   \n",
       "997  2017-12-28    15459.97    15539.99   13150.00     14182.11      15459.97   \n",
       "998  2017-12-27    15709.98    16498.05   14200.15     15459.99      15709.98   \n",
       "999  2017-12-26    13699.34    16050.00   13533.00     15689.01      13699.34   \n",
       "\n",
       "     high (USD).1  low (USD).1  close (USD).1        volume  market cap (USD)  \n",
       "0        11080.64     11046.54       11047.40    811.458671        811.458671  \n",
       "1        11179.79     10887.37       11080.65  38440.036858      38440.036858  \n",
       "2        11038.03     10812.84       10933.39  47266.728275      47266.728275  \n",
       "3        11045.46     10745.83       10939.99  55601.614529      55601.614529  \n",
       "4        11093.00     10661.22       10954.01  64991.512440      64991.512440  \n",
       "..            ...          ...            ...           ...               ...  \n",
       "995      14398.85     11750.00       12440.01  19221.158039      19221.158039  \n",
       "996      14981.00     13850.00       14378.90  18072.008116      18072.008116  \n",
       "997      15539.99     13150.00       14182.11  21717.858014      21717.858014  \n",
       "998      16498.05     14200.15       15459.99  14959.864723      14959.864723  \n",
       "999      16050.00     13533.00       15689.01  15034.668104      15034.668104  \n",
       "\n",
       "[1000 rows x 11 columns]"
      ]
     },
     "execution_count": 20,
     "metadata": {},
     "output_type": "execute_result"
    }
   ],
   "source": [
    "df"
   ]
  },
  {
   "cell_type": "code",
   "execution_count": 28,
   "metadata": {},
   "outputs": [],
   "source": [
    "df['timestamp'] = pd.to_datetime(df['timestamp'])\n",
    "# df.groupby('close (USD)').resample('W-Mon', on='timestamp').sum().reset_index()\n",
    "df['week_date'] = df.apply(lambda row: row['timestamp'] - dt.timedelta(days=row['timestamp'].weekday()), axis=1)\n",
    "\n",
    "# perweek = df['week_date'].groupby(df['WeekDate']).count()\n",
    "new_df = df.groupby(df['week_date'])['close (USD)'].mean().reset_index().sort_values('week_date')"
   ]
  },
  {
   "cell_type": "code",
   "execution_count": 29,
   "metadata": {},
   "outputs": [],
   "source": [
    "import matplotlib.pyplot as plt\n"
   ]
  },
  {
   "cell_type": "code",
   "execution_count": 35,
   "metadata": {},
   "outputs": [
    {
     "data": {
      "text/plain": [
       "<Figure size 432x288 with 0 Axes>"
      ]
     },
     "metadata": {},
     "output_type": "display_data"
    },
    {
     "data": {
      "image/png": "[encoded data removed]",
      "text/plain": [
       "<Figure size 432x288 with 1 Axes>"
      ]
     },
     "metadata": {
      "needs_background": "light"
     },
     "output_type": "display_data"
    }
   ],
   "source": [
    "plt.figure();\n",
    "\n",
    "fig = new_df.plot(x='week_date', y='close (USD)', marker='.', kind= 'line')\n",
    "fig.get_figure().savefig('weekly_average.png')"
   ]
  },
  {
   "cell_type": "code",
   "execution_count": null,
   "metadata": {},
   "outputs": [],
   "source": [
    "plt.savefig('task1.png')"
   ]
  },
  {
   "cell_type": "code",
   "execution_count": 37,
   "metadata": {},
   "outputs": [
    {
     "data": {
      "text/plain": [
       "'week_date'"
      ]
     },
     "execution_count": 37,
     "metadata": {},
     "output_type": "execute_result"
    }
   ],
   "source": [
    "new_df.columns[0]"
   ]
  },
  {
   "cell_type": "code",
   "execution_count": 55,
   "metadata": {},
   "outputs": [],
   "source": [
    "df['7day'] = df[['timestamp', 'close (USD)']].rolling(window=7).mean()\n",
    "day7_rolling_df = df[['timestamp','7day']].dropna()\n",
    "day7_rolling_df.plot(x='timestamp', y='7day', marker='.', kind= 'line')\n",
    "fig.get_figure().savefig('7day_rolling.png')"
   ]
  },
  {
   "cell_type": "code",
   "execution_count": 58,
   "metadata": {},
   "outputs": [
    {
     "data": {
      "image/png": "[encoded data removed]",
      "text/plain": [
       "<Figure size 432x288 with 1 Axes>"
      ]
     },
     "metadata": {
      "needs_background": "light"
     },
     "output_type": "display_data"
    }
   ],
   "source": [
    "df['3day'] = df[['timestamp', 'close (USD)']].rolling(window=3).mean()\n",
    "day3_rolling_df = df[['timestamp','3day']].dropna()\n",
    "day3_rolling_df.plot(x='timestamp', y='3day', marker='.', kind= 'line')\n",
    "fig.get_figure().savefig('3day_rolling.png')"
   ]
  }
 ],
 "metadata": {
  "kernelspec": {
   "display_name": "Python 3",
   "language": "python",
   "name": "python3"
  },
  "language_info": {
   "codemirror_mode": {
    "name": "ipython",
    "version": 3
   },
   "file_extension": ".py",
   "mimetype": "text/x-python",
   "name": "python",
   "nbconvert_exporter": "python",
   "pygments_lexer": "ipython3",
   "version": "3.8.1"
  }
 },
 "nbformat": 4,
 "nbformat_minor": 4
}
